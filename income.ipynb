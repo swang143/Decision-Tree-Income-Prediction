{
 "cells": [
  {
   "cell_type": "code",
   "execution_count": 22,
   "metadata": {
    "collapsed": false
   },
   "outputs": [
    {
     "name": "stdout",
     "output_type": "stream",
     "text": [
      "   age          workclass  fnlwgt   education  education_num  \\\n",
      "0   39          State-gov   77516   Bachelors             13   \n",
      "1   50   Self-emp-not-inc   83311   Bachelors             13   \n",
      "2   38            Private  215646     HS-grad              9   \n",
      "3   53            Private  234721        11th              7   \n",
      "4   28            Private  338409   Bachelors             13   \n",
      "\n",
      "        marital_status          occupation    relationship    race      sex  \\\n",
      "0        Never-married        Adm-clerical   Not-in-family   White     Male   \n",
      "1   Married-civ-spouse     Exec-managerial         Husband   White     Male   \n",
      "2             Divorced   Handlers-cleaners   Not-in-family   White     Male   \n",
      "3   Married-civ-spouse   Handlers-cleaners         Husband   Black     Male   \n",
      "4   Married-civ-spouse      Prof-specialty            Wife   Black   Female   \n",
      "\n",
      "   capital_gain  capital_loss  hours_per_week  native_country high_income  \n",
      "0          2174             0              40   United-States       <=50K  \n",
      "1             0             0              13   United-States       <=50K  \n",
      "2             0             0              40   United-States       <=50K  \n",
      "3             0             0              40   United-States       <=50K  \n",
      "4             0             0              40            Cuba       <=50K  \n"
     ]
    }
   ],
   "source": [
    "import pandas\n",
    "\n",
    "names = [\"age\", \"workclass\", \"fnlwgt\", \"education\", \"education_num\", \"marital_status\", \n",
    "         \"occupation\", \"relationship\", \"race\", \"sex\", \"capital_gain\", \"capital_loss\", \n",
    "         \"hours_per_week\", \"native_country\", \"high_income\"]\n",
    "income = pandas.read_csv(\"income.csv\", header=None, names=names, index_col=False)\n",
    "print(income.head())"
   ]
  },
  {
   "cell_type": "code",
   "execution_count": 23,
   "metadata": {
    "collapsed": false
   },
   "outputs": [
    {
     "name": "stdout",
     "output_type": "stream",
     "text": [
      "0    7\n",
      "1    6\n",
      "2    4\n",
      "3    4\n",
      "4    4\n",
      "Name: workclass, dtype: int8\n",
      "0     9\n",
      "1     9\n",
      "2    11\n",
      "3     1\n",
      "4     9\n",
      "Name: education, dtype: int8\n",
      "0    4\n",
      "1    2\n",
      "2    0\n",
      "3    2\n",
      "4    2\n",
      "Name: marital_status, dtype: int8\n",
      "0     1\n",
      "1     4\n",
      "2     6\n",
      "3     6\n",
      "4    10\n",
      "Name: occupation, dtype: int8\n",
      "0    1\n",
      "1    0\n",
      "2    1\n",
      "3    0\n",
      "4    5\n",
      "Name: relationship, dtype: int8\n",
      "0    4\n",
      "1    4\n",
      "2    4\n",
      "3    2\n",
      "4    2\n",
      "Name: race, dtype: int8\n",
      "0    1\n",
      "1    1\n",
      "2    1\n",
      "3    1\n",
      "4    0\n",
      "Name: sex, dtype: int8\n",
      "0    39\n",
      "1    39\n",
      "2    39\n",
      "3    39\n",
      "4     5\n",
      "Name: native_country, dtype: int8\n",
      "0    0\n",
      "1    0\n",
      "2    0\n",
      "3    0\n",
      "4    0\n",
      "Name: high_income, dtype: int8\n"
     ]
    }
   ],
   "source": [
    "# Convert the categorical variables in our dataset to numeric variables\n",
    "# We can use the Categorical.from_array method from Pandas to perform the conversion to numbers\n",
    "convert_list = ['workclass', 'education', 'marital_status', 'occupation', 'relationship', \n",
    "                'race', 'sex', 'native_country', 'high_income']\n",
    "for column in convert_list:\n",
    "    col = pandas.Categorical.from_array(income[column])\n",
    "    income[column] = col.codes\n",
    "    print(income[column].head())"
   ]
  },
  {
   "cell_type": "code",
   "execution_count": 24,
   "metadata": {
    "collapsed": false
   },
   "outputs": [
    {
     "name": "stdout",
     "output_type": "stream",
     "text": [
      "0.796383955202\n"
     ]
    }
   ],
   "source": [
    "# Compute the entropy of the high_income column in the income dataframe\n",
    "import math\n",
    "\n",
    "high_income = sum(income['high_income'] == 1)\n",
    "total = income.shape[0]\n",
    "high_ratio = high_income / total\n",
    "low_ratio = 1 - high_ratio\n",
    "income_entropy = - (high_ratio * math.log(high_ratio, 2) + low_ratio * math.log(low_ratio, 2))\n",
    "\n",
    "print(income_entropy)"
   ]
  },
  {
   "cell_type": "code",
   "execution_count": 25,
   "metadata": {
    "collapsed": false
   },
   "outputs": [
    {
     "name": "stdout",
     "output_type": "stream",
     "text": [
      "0.0470286613047\n"
     ]
    }
   ],
   "source": [
    "# Compute the information gain for splitting on the age column of income\n",
    "import numpy\n",
    "\n",
    "def calc_entropy(column):\n",
    "    # Calculate entropy given a pandas Series, list, or numpy array.\n",
    "    counts = numpy.bincount(column)\n",
    "    probabilities = counts / len(column)\n",
    "    \n",
    "    entropy = 0\n",
    "    for prob in probabilities:\n",
    "        if prob > 0: \n",
    "            entropy += prob * math.log(prob, 2)\n",
    "    return -entropy\n",
    "\n",
    "median_age = numpy.median(income['age'])\n",
    "left_split = income[income['age'] <= median_age]\n",
    "right_split = income[income['age'] > median_age]\n",
    "\n",
    "left_entropy = calc_entropy(left_split['high_income'])\n",
    "right_entropy = calc_entropy(right_split['high_income'])\n",
    "total_entropy = calc_entropy(income['high_income'])\n",
    "\n",
    "age_information_gain = total_entropy - (len(left_split) / len(income) * left_entropy + \n",
    "                                        len(right_split) / len(income) * right_entropy)\n",
    "print(age_information_gain)"
   ]
  },
  {
   "cell_type": "markdown",
   "metadata": {},
   "source": [
    "Make a list called information_gains. It should contain, in order, the information gain from splitting on these columns: age, workclass, education_num, marital_status, occupation, relationship, race, sex, hours_per_week, native_country.\n",
    "\n",
    "Find the highest value in the information_gains list. Assign the name of the column with the highest information gain to highest_gain."
   ]
  },
  {
   "cell_type": "code",
   "execution_count": 26,
   "metadata": {
    "collapsed": false
   },
   "outputs": [
    {
     "name": "stdout",
     "output_type": "stream",
     "text": [
      "marital_status\n"
     ]
    }
   ],
   "source": [
    "def calc_information_gain(data_set, split_name, target_name):\n",
    "    # Calculate information gain given a dataset, column to split on, and target.\n",
    "    median = numpy.median(data_set[split_name])\n",
    "    left_split = data_set[data_set[split_name] <= median]\n",
    "    right_split = data_set[data_set[split_name] > median]\n",
    "    \n",
    "    left_entropy = calc_entropy(left_split[target_name])\n",
    "    right_entropy = calc_entropy(right_split[target_name])\n",
    "    total_entropy = calc_entropy(data_set[target_name])\n",
    "    \n",
    "    information_gain = total_entropy - (len(left_split) / len(data_set) * left_entropy +\n",
    "                                       len(right_split) / len(data_set) * right_entropy)\n",
    "    return information_gain\n",
    "\n",
    "columns = [\"age\", \"workclass\", \"education_num\", \"marital_status\", \"occupation\", \n",
    "           \"relationship\", \"race\", \"sex\", \"hours_per_week\", \"native_country\"]\n",
    "information_gains = []\n",
    "\n",
    "for col in columns:\n",
    "    information_gains.append(calc_information_gain(income, col, 'high_income'))\n",
    "\n",
    "index = information_gains.index(max(information_gains))\n",
    "highest_gain = columns[index]\n",
    "print(highest_gain)"
   ]
  },
  {
   "cell_type": "code",
   "execution_count": 27,
   "metadata": {
    "collapsed": false
   },
   "outputs": [
    {
     "name": "stdout",
     "output_type": "stream",
     "text": [
      "marital_status\n"
     ]
    }
   ],
   "source": [
    "def find_best_column(data, target_name, columns):\n",
    "    # find the column in columns to split on.\n",
    "    \n",
    "    information_gains = []\n",
    "    for col in columns:\n",
    "        information_gains.append(calc_information_gain(data, col, target_name))\n",
    "    index = information_gains.index(max(information_gains))\n",
    "    return columns[index]\n",
    "\n",
    "# A list of columns to potentially split income with.\n",
    "columns = [\"age\", \"workclass\", \"education_num\", \"marital_status\", \"occupation\", \n",
    "           \"relationship\", \"race\", \"sex\", \"hours_per_week\", \"native_country\"]\n",
    "\n",
    "income_split = find_best_column(income, 'high_income', columns)\n",
    "print(income_split)"
   ]
  },
  {
   "cell_type": "code",
   "execution_count": 28,
   "metadata": {
    "collapsed": false
   },
   "outputs": [
    {
     "name": "stdout",
     "output_type": "stream",
     "text": [
      "[1, 1, 1] [0, 0, 0]\n"
     ]
    }
   ],
   "source": [
    "# To build up to making the full id3 function, let's first build a simpler algorithm that we \n",
    "# can extend. \n",
    "label_1s = []\n",
    "label_0s = []\n",
    "def id3(data_set, target, columns):\n",
    "    unique_targets = pandas.unique(data_set[target])\n",
    "    \n",
    "    if len(unique_targets) == 1:\n",
    "        if (unique_targets[0] == 1):\n",
    "            label_1s.append(1)\n",
    "        elif(unique_targets[0] == 0):\n",
    "            label_0s.append(0)\n",
    "        return\n",
    "    \n",
    "    best_column = find_best_column(data_set, target, columns)\n",
    "    column_median = numpy.median(data_set[best_column])\n",
    "    left_split = data_set[data_set[best_column] <= column_median]\n",
    "    right_split = data_set[data_set[best_column] > column_median]\n",
    "    \n",
    "    for split in [left_split, right_split]:\n",
    "        id3(split, target, columns)\n",
    "\n",
    "# Create the dataset that we used in the example in the last screen.\n",
    "data = pandas.DataFrame([\n",
    "    [0,20,0],\n",
    "    [0,60,2],\n",
    "    [0,40,1],\n",
    "    [1,25,1],\n",
    "    [1,35,2],\n",
    "    [1,55,1]\n",
    "    ])\n",
    "# Assign column names to the data.\n",
    "data.columns = [\"high_income\", \"age\", \"marital_status\"]\n",
    "\n",
    "# Call the function on our data to set the counters properly.\n",
    "id3(data, \"high_income\", [\"age\", \"marital_status\"])\n",
    "print(label_1s, label_0s)"
   ]
  },
  {
   "cell_type": "code",
   "execution_count": 29,
   "metadata": {
    "collapsed": false
   },
   "outputs": [
    {
     "name": "stdout",
     "output_type": "stream",
     "text": [
      "{'column': 'age', 'median': 37.5, 'right': {'column': 'age', 'median': 55.0, 'right': {'number': 11, 'label': 0}, 'number': 7, 'left': {'column': 'age', 'median': 47.5, 'right': {'number': 10, 'label': 1}, 'number': 8, 'left': {'number': 9, 'label': 0}}}, 'number': 1, 'left': {'column': 'age', 'median': 25.0, 'right': {'number': 6, 'label': 1}, 'number': 2, 'left': {'column': 'age', 'median': 22.5, 'right': {'number': 5, 'label': 1}, 'number': 3, 'left': {'number': 4, 'label': 0}}}}\n"
     ]
    }
   ],
   "source": [
    "# In order to keep track of the tree, we'll need to make some modifications to id3. The first \n",
    "# is that we'll be changing the definition to pass in the tree dictionary.\n",
    "tree = {}\n",
    "nodes = []\n",
    "\n",
    "def id3(data_set, target, columns, tree):\n",
    "    nodes.append(len(nodes) + 1)\n",
    "    tree['number'] = nodes[-1]\n",
    "    \n",
    "    unique_targets = pandas.unique(data_set[target])\n",
    "    \n",
    "    if len(unique_targets) == 1:\n",
    "        if (unique_targets[0] == 1):\n",
    "            tree['label'] = 1\n",
    "        elif(unique_targets[0] == 0):\n",
    "            tree['label'] = 0\n",
    "        return\n",
    "    \n",
    "    best_column = find_best_column(data_set, target, columns)\n",
    "    column_median = numpy.median(data_set[best_column])\n",
    "    \n",
    "    tree['column'] = best_column\n",
    "    tree['median'] = column_median\n",
    "    \n",
    "    left_split = data_set[data_set[best_column] <= column_median]\n",
    "    right_split = data_set[data_set[best_column] > column_median]\n",
    "    \n",
    "    for name, split in [['left', left_split], ['right', right_split]]:\n",
    "        tree[name] = {}\n",
    "        id3(split, target, columns, tree[name])\n",
    "\n",
    "id3(data, \"high_income\", [\"age\", \"marital_status\"], tree)\n",
    "print(tree)"
   ]
  },
  {
   "cell_type": "code",
   "execution_count": 30,
   "metadata": {
    "collapsed": false
   },
   "outputs": [
    {
     "name": "stdout",
     "output_type": "stream",
     "text": [
      "age > 37.5\n",
      "    age > 25.0\n",
      "        age > 22.5\n",
      "            Leaf: Label 0\n",
      "            Leaf: Label 1\n",
      "        Leaf: Label 1\n",
      "    age > 55.0\n",
      "        age > 47.5\n",
      "            Leaf: Label 0\n",
      "            Leaf: Label 1\n",
      "        Leaf: Label 0\n"
     ]
    }
   ],
   "source": [
    "# A pretty tree\n",
    "def print_with_depth(string, depth):\n",
    "    # Add space before a string.\n",
    "    prefix = \"    \" * depth\n",
    "    # Print a string, appropriately indented.\n",
    "    print(\"{0}{1}\".format(prefix, string))\n",
    "    \n",
    "    \n",
    "def print_node(tree, depth):\n",
    "    # Check for the presence of label in the tree.\n",
    "    if \"label\" in tree:\n",
    "        # If there's a label, then this is a leaf, so print it and return.\n",
    "        print_with_depth(\"Leaf: Label {0}\".format(tree[\"label\"]), depth)\n",
    "        # This is critical -- without it, you'll get infinite recursion.\n",
    "        return\n",
    "    # Print information about what the node is splitting on.\n",
    "    print_with_depth(\"{0} > {1}\".format(tree[\"column\"], tree[\"median\"]), depth)\n",
    "    \n",
    "    # Create a list of tree branches.\n",
    "    branches = [tree[\"left\"], tree[\"right\"]]\n",
    "        \n",
    "    # Insert code here to recursively call print_node on each branch.\n",
    "    # Don't forget to increment depth when you pass it in!\n",
    "    for branch in branches:\n",
    "        print_node(branch, depth+1)\n",
    "\n",
    "print_node(tree, 0)"
   ]
  },
  {
   "cell_type": "code",
   "execution_count": 32,
   "metadata": {
    "collapsed": false
   },
   "outputs": [
    {
     "name": "stdout",
     "output_type": "stream",
     "text": [
      "0\n"
     ]
    }
   ],
   "source": [
    "# Make predictions\n",
    "def predict(tree, row):\n",
    "    if 'label' in tree:\n",
    "        return tree['label']\n",
    "    \n",
    "    column = tree['column']\n",
    "    median = tree['median']\n",
    "    \n",
    "    if row[column] <= median:\n",
    "        return predict(tree['left'], row)\n",
    "    else:\n",
    "        return predict(tree['right'], row)\n",
    "\n",
    "print(predict(tree, data.iloc[0]))"
   ]
  },
  {
   "cell_type": "code",
   "execution_count": 33,
   "metadata": {
    "collapsed": false
   },
   "outputs": [
    {
     "name": "stdout",
     "output_type": "stream",
     "text": [
      "0    0\n",
      "1    0\n",
      "2    0\n",
      "3    0\n",
      "4    1\n",
      "5    0\n",
      "dtype: int64\n"
     ]
    }
   ],
   "source": [
    "# Make predictions on multiple rows at once \n",
    "new_data = pandas.DataFrame([\n",
    "    [40,0],\n",
    "    [20,2],\n",
    "    [80,1],\n",
    "    [15,1],\n",
    "    [27,2],\n",
    "    [38,1]\n",
    "    ])\n",
    "# Assign column names to the data.\n",
    "new_data.columns = [\"age\", \"marital_status\"]\n",
    "\n",
    "predictions = new_data.apply(lambda row: predict(tree, row), axis=1)\n",
    "print(predictions)"
   ]
  },
  {
   "cell_type": "code",
   "execution_count": null,
   "metadata": {
    "collapsed": true
   },
   "outputs": [],
   "source": []
  }
 ],
 "metadata": {
  "kernelspec": {
   "display_name": "Python 3",
   "language": "python",
   "name": "python3"
  },
  "language_info": {
   "codemirror_mode": {
    "name": "ipython",
    "version": 3
   },
   "file_extension": ".py",
   "mimetype": "text/x-python",
   "name": "python",
   "nbconvert_exporter": "python",
   "pygments_lexer": "ipython3",
   "version": "3.5.1"
  }
 },
 "nbformat": 4,
 "nbformat_minor": 0
}
