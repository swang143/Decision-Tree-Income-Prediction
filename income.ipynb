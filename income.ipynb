{
 "cells": [
  {
   "cell_type": "code",
   "execution_count": 5,
   "metadata": {
    "collapsed": false
   },
   "outputs": [
    {
     "name": "stdout",
     "output_type": "stream",
     "text": [
      "   age          workclass  fnlwgt   education  education_num  \\\n",
      "0   39          State-gov   77516   Bachelors             13   \n",
      "1   50   Self-emp-not-inc   83311   Bachelors             13   \n",
      "2   38            Private  215646     HS-grad              9   \n",
      "3   53            Private  234721        11th              7   \n",
      "4   28            Private  338409   Bachelors             13   \n",
      "\n",
      "        marital_status          occupation    relationship    race      sex  \\\n",
      "0        Never-married        Adm-clerical   Not-in-family   White     Male   \n",
      "1   Married-civ-spouse     Exec-managerial         Husband   White     Male   \n",
      "2             Divorced   Handlers-cleaners   Not-in-family   White     Male   \n",
      "3   Married-civ-spouse   Handlers-cleaners         Husband   Black     Male   \n",
      "4   Married-civ-spouse      Prof-specialty            Wife   Black   Female   \n",
      "\n",
      "   capital_gain  capital_loss  hours_per_week  native_country high_income  \n",
      "0          2174             0              40   United-States       <=50K  \n",
      "1             0             0              13   United-States       <=50K  \n",
      "2             0             0              40   United-States       <=50K  \n",
      "3             0             0              40   United-States       <=50K  \n",
      "4             0             0              40            Cuba       <=50K  \n"
     ]
    }
   ],
   "source": [
    "import pandas\n",
    "\n",
    "names = [\"age\", \"workclass\", \"fnlwgt\", \"education\", \"education_num\", \"marital_status\", \n",
    "         \"occupation\", \"relationship\", \"race\", \"sex\", \"capital_gain\", \"capital_loss\", \n",
    "         \"hours_per_week\", \"native_country\", \"high_income\"]\n",
    "income = pandas.read_csv(\"income.csv\", header=None, names=names, index_col=False)\n",
    "print(income.head())"
   ]
  },
  {
   "cell_type": "code",
   "execution_count": 6,
   "metadata": {
    "collapsed": false
   },
   "outputs": [
    {
     "name": "stdout",
     "output_type": "stream",
     "text": [
      "0    7\n",
      "1    6\n",
      "2    4\n",
      "3    4\n",
      "4    4\n",
      "Name: workclass, dtype: int8\n",
      "0     9\n",
      "1     9\n",
      "2    11\n",
      "3     1\n",
      "4     9\n",
      "Name: education, dtype: int8\n",
      "0    4\n",
      "1    2\n",
      "2    0\n",
      "3    2\n",
      "4    2\n",
      "Name: marital_status, dtype: int8\n",
      "0     1\n",
      "1     4\n",
      "2     6\n",
      "3     6\n",
      "4    10\n",
      "Name: occupation, dtype: int8\n",
      "0    1\n",
      "1    0\n",
      "2    1\n",
      "3    0\n",
      "4    5\n",
      "Name: relationship, dtype: int8\n",
      "0    4\n",
      "1    4\n",
      "2    4\n",
      "3    2\n",
      "4    2\n",
      "Name: race, dtype: int8\n",
      "0    1\n",
      "1    1\n",
      "2    1\n",
      "3    1\n",
      "4    0\n",
      "Name: sex, dtype: int8\n",
      "0    39\n",
      "1    39\n",
      "2    39\n",
      "3    39\n",
      "4     5\n",
      "Name: native_country, dtype: int8\n",
      "0    0\n",
      "1    0\n",
      "2    0\n",
      "3    0\n",
      "4    0\n",
      "Name: high_income, dtype: int8\n"
     ]
    }
   ],
   "source": [
    "# Convert the categorical variables in our dataset to numeric variables\n",
    "# We can use the Categorical.from_array method from Pandas to perform the conversion to numbers\n",
    "convert_list = ['workclass', 'education', 'marital_status', 'occupation', 'relationship', \n",
    "                'race', 'sex', 'native_country', 'high_income']\n",
    "for column in convert_list:\n",
    "    col = pandas.Categorical.from_array(income[column])\n",
    "    income[column] = col.codes\n",
    "    print(income[column].head())"
   ]
  },
  {
   "cell_type": "code",
   "execution_count": 8,
   "metadata": {
    "collapsed": false
   },
   "outputs": [
    {
     "name": "stdout",
     "output_type": "stream",
     "text": [
      "0.796383955202\n"
     ]
    }
   ],
   "source": [
    "# Compute the entropy of the high_income column in the income dataframe\n",
    "import math\n",
    "\n",
    "high_income = sum(income['high_income'] == 1)\n",
    "total = income.shape[0]\n",
    "high_ratio = high_income / total\n",
    "low_ratio = 1 - high_ratio\n",
    "income_entropy = - (high_ratio * math.log(high_ratio, 2) + low_ratio * math.log(low_ratio, 2))\n",
    "\n",
    "print(income_entropy)"
   ]
  },
  {
   "cell_type": "code",
   "execution_count": 9,
   "metadata": {
    "collapsed": false
   },
   "outputs": [
    {
     "name": "stdout",
     "output_type": "stream",
     "text": [
      "0.0470286613047\n"
     ]
    }
   ],
   "source": [
    "# Compute the information gain for splitting on the age column of income\n",
    "import numpy\n",
    "\n",
    "def calc_entropy(column):\n",
    "    # Calculate entropy given a pandas Series, list, or numpy array.\n",
    "    counts = numpy.bincount(column)\n",
    "    probabilities = counts / len(column)\n",
    "    \n",
    "    entropy = 0\n",
    "    for prob in probabilities:\n",
    "        entropy += prob * math.log(prob, 2)\n",
    "    return -entropy\n",
    "\n",
    "median_age = numpy.median(income['age'])\n",
    "left_split = income[income['age'] <= median_age]\n",
    "right_split = income[income['age'] > median_age]\n",
    "\n",
    "left_entropy = calc_entropy(left_split['high_income'])\n",
    "right_entropy = calc_entropy(right_split['high_income'])\n",
    "total_entropy = calc_entropy(income['high_income'])\n",
    "\n",
    "age_information_gain = total_entropy - (len(left_split) / len(income) * left_entropy + \n",
    "                                        len(right_split) / len(income) * right_entropy)\n",
    "print(age_information_gain)"
   ]
  },
  {
   "cell_type": "markdown",
   "metadata": {},
   "source": [
    "Make a list called information_gains. It should contain, in order, the information gain from splitting on these columns: age, workclass, education_num, marital_status, occupation, relationship, race, sex, hours_per_week, native_country.\n",
    "\n",
    "Find the highest value in the information_gains list. Assign the name of the column with the highest information gain to highest_gain."
   ]
  },
  {
   "cell_type": "code",
   "execution_count": 11,
   "metadata": {
    "collapsed": false
   },
   "outputs": [
    {
     "name": "stdout",
     "output_type": "stream",
     "text": [
      "marital_status\n"
     ]
    }
   ],
   "source": [
    "def calc_information_gain(data_set, split_name, target_name):\n",
    "    # Calculate information gain given a dataset, column to split on, and target.\n",
    "    median = numpy.median(data_set[split_name])\n",
    "    left_split = data_set[data_set[split_name] <= median]\n",
    "    right_split = data_set[data_set[split_name] > median]\n",
    "    \n",
    "    left_entropy = calc_entropy(left_split[target_name])\n",
    "    right_entropy = calc_entropy(right_split[target_name])\n",
    "    total_entropy = calc_entropy(data_set[target_name])\n",
    "    \n",
    "    information_gain = total_entropy - (len(left_split) / len(data_set) * left_entropy +\n",
    "                                       len(right_split) / len(data_set) * right_entropy)\n",
    "    return information_gain\n",
    "\n",
    "columns = [\"age\", \"workclass\", \"education_num\", \"marital_status\", \"occupation\", \n",
    "           \"relationship\", \"race\", \"sex\", \"hours_per_week\", \"native_country\"]\n",
    "information_gains = []\n",
    "\n",
    "for col in columns:\n",
    "    information_gains.append(calc_information_gain(income, col, 'high_income'))\n",
    "\n",
    "index = information_gains.index(max(information_gains))\n",
    "highest_gain = columns[index]\n",
    "print(highest_gain)"
   ]
  },
  {
   "cell_type": "code",
   "execution_count": null,
   "metadata": {
    "collapsed": true
   },
   "outputs": [],
   "source": []
  },
  {
   "cell_type": "code",
   "execution_count": null,
   "metadata": {
    "collapsed": true
   },
   "outputs": [],
   "source": []
  },
  {
   "cell_type": "code",
   "execution_count": null,
   "metadata": {
    "collapsed": true
   },
   "outputs": [],
   "source": []
  },
  {
   "cell_type": "code",
   "execution_count": null,
   "metadata": {
    "collapsed": true
   },
   "outputs": [],
   "source": []
  }
 ],
 "metadata": {
  "kernelspec": {
   "display_name": "Python 3",
   "language": "python",
   "name": "python3"
  },
  "language_info": {
   "codemirror_mode": {
    "name": "ipython",
    "version": 3
   },
   "file_extension": ".py",
   "mimetype": "text/x-python",
   "name": "python",
   "nbconvert_exporter": "python",
   "pygments_lexer": "ipython3",
   "version": "3.5.1"
  }
 },
 "nbformat": 4,
 "nbformat_minor": 0
}
