{
 "cells": [
  {
   "cell_type": "code",
   "execution_count": 5,
   "metadata": {
    "collapsed": false
   },
   "outputs": [
    {
     "name": "stdout",
     "output_type": "stream",
     "text": [
      "   age          workclass  fnlwgt   education  education_num  \\\n",
      "0   39          State-gov   77516   Bachelors             13   \n",
      "1   50   Self-emp-not-inc   83311   Bachelors             13   \n",
      "2   38            Private  215646     HS-grad              9   \n",
      "3   53            Private  234721        11th              7   \n",
      "4   28            Private  338409   Bachelors             13   \n",
      "\n",
      "        marital_status          occupation    relationship    race      sex  \\\n",
      "0        Never-married        Adm-clerical   Not-in-family   White     Male   \n",
      "1   Married-civ-spouse     Exec-managerial         Husband   White     Male   \n",
      "2             Divorced   Handlers-cleaners   Not-in-family   White     Male   \n",
      "3   Married-civ-spouse   Handlers-cleaners         Husband   Black     Male   \n",
      "4   Married-civ-spouse      Prof-specialty            Wife   Black   Female   \n",
      "\n",
      "   capital_gain  capital_loss  hours_per_week  native_country high_income  \n",
      "0          2174             0              40   United-States       <=50K  \n",
      "1             0             0              13   United-States       <=50K  \n",
      "2             0             0              40   United-States       <=50K  \n",
      "3             0             0              40   United-States       <=50K  \n",
      "4             0             0              40            Cuba       <=50K  \n"
     ]
    }
   ],
   "source": [
    "import pandas\n",
    "\n",
    "names = [\"age\", \"workclass\", \"fnlwgt\", \"education\", \"education_num\", \"marital_status\", \n",
    "         \"occupation\", \"relationship\", \"race\", \"sex\", \"capital_gain\", \"capital_loss\", \n",
    "         \"hours_per_week\", \"native_country\", \"high_income\"]\n",
    "income = pandas.read_csv(\"income.csv\", header=None, names=names, index_col=False)\n",
    "print(income.head())"
   ]
  },
  {
   "cell_type": "code",
   "execution_count": 6,
   "metadata": {
    "collapsed": false
   },
   "outputs": [
    {
     "name": "stdout",
     "output_type": "stream",
     "text": [
      "0    7\n",
      "1    6\n",
      "2    4\n",
      "3    4\n",
      "4    4\n",
      "Name: workclass, dtype: int8\n",
      "0     9\n",
      "1     9\n",
      "2    11\n",
      "3     1\n",
      "4     9\n",
      "Name: education, dtype: int8\n",
      "0    4\n",
      "1    2\n",
      "2    0\n",
      "3    2\n",
      "4    2\n",
      "Name: marital_status, dtype: int8\n",
      "0     1\n",
      "1     4\n",
      "2     6\n",
      "3     6\n",
      "4    10\n",
      "Name: occupation, dtype: int8\n",
      "0    1\n",
      "1    0\n",
      "2    1\n",
      "3    0\n",
      "4    5\n",
      "Name: relationship, dtype: int8\n",
      "0    4\n",
      "1    4\n",
      "2    4\n",
      "3    2\n",
      "4    2\n",
      "Name: race, dtype: int8\n",
      "0    1\n",
      "1    1\n",
      "2    1\n",
      "3    1\n",
      "4    0\n",
      "Name: sex, dtype: int8\n",
      "0    39\n",
      "1    39\n",
      "2    39\n",
      "3    39\n",
      "4     5\n",
      "Name: native_country, dtype: int8\n",
      "0    0\n",
      "1    0\n",
      "2    0\n",
      "3    0\n",
      "4    0\n",
      "Name: high_income, dtype: int8\n"
     ]
    }
   ],
   "source": [
    "# Convert the categorical variables in our dataset to numeric variables\n",
    "# We can use the Categorical.from_array method from Pandas to perform the conversion to numbers\n",
    "convert_list = ['workclass', 'education', 'marital_status', 'occupation', 'relationship', \n",
    "                'race', 'sex', 'native_country', 'high_income']\n",
    "for column in convert_list:\n",
    "    col = pandas.Categorical.from_array(income[column])\n",
    "    income[column] = col.codes\n",
    "    print(income[column].head())"
   ]
  },
  {
   "cell_type": "code",
   "execution_count": 8,
   "metadata": {
    "collapsed": false
   },
   "outputs": [
    {
     "name": "stdout",
     "output_type": "stream",
     "text": [
      "0.796383955202\n"
     ]
    }
   ],
   "source": [
    "# Compute the entropy of the high_income column in the income dataframe\n",
    "import math\n",
    "\n",
    "high_income = sum(income['high_income'] == 1)\n",
    "total = income.shape[0]\n",
    "high_ratio = high_income / total\n",
    "low_ratio = 1 - high_ratio\n",
    "income_entropy = - (high_ratio * math.log(high_ratio, 2) + low_ratio * math.log(low_ratio, 2))\n",
    "\n",
    "print(income_entropy)"
   ]
  },
  {
   "cell_type": "code",
   "execution_count": null,
   "metadata": {
    "collapsed": true
   },
   "outputs": [],
   "source": []
  }
 ],
 "metadata": {
  "kernelspec": {
   "display_name": "Python 3",
   "language": "python",
   "name": "python3"
  },
  "language_info": {
   "codemirror_mode": {
    "name": "ipython",
    "version": 3
   },
   "file_extension": ".py",
   "mimetype": "text/x-python",
   "name": "python",
   "nbconvert_exporter": "python",
   "pygments_lexer": "ipython3",
   "version": "3.5.1"
  }
 },
 "nbformat": 4,
 "nbformat_minor": 0
}
